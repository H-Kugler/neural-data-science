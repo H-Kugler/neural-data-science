{
 "cells": [
  {
   "attachments": {},
   "cell_type": "markdown",
   "metadata": {},
   "source": [
    "_Neural Data Science_\n",
    "\n",
    "Lecturer: Prof. Dr. Philipp Berens\n",
    "\n",
    "Tutors: Jonas Beck, Ziwei Huang, Rita González Márquez\n",
    "\n",
    "Summer term 2023\n",
    "\n",
    "Student name: Harald Kugler, Leander Zimmermann\n",
    "\n",
    "# Coding Lab 3\n",
    "\n",
    "- __Data__: Download the data file ```nds_cl_3_*.csv``` from ILIAS and save it in a subfolder ```../data/```.\n",
    "- __Dependencies__: You don't have to use the exact versions of all the dependencies in this notebook, as long as they are new enough. But if you run \"Run All\" in Jupyter and the boilerplate code breaks, you probably need to upgrade them.\n",
    "\n",
    "Two-photon imaging is widely used to study computations in populations of neurons. In this exercise sheet we will study properties of different indicators and work on methods to infer spikes from calcium traces. All data is provided at a sampling rate of 100 Hz. For analysis, please resample it to 25 Hz using `scipy.signal.decimate`."
   ]
  },
  {
   "cell_type": "code",
   "execution_count": 32,
   "metadata": {},
   "outputs": [
    {
     "name": "stdout",
     "output_type": "stream",
     "text": [
      "The jupyter_black extension is already loaded. To reload it, use:\n",
      "  %reload_ext jupyter_black\n",
      "The watermark extension is already loaded. To reload it, use:\n",
      "  %reload_ext watermark\n",
      "Last updated: 2023-05-04 16:50:16CEST\n",
      "\n",
      "Python implementation: CPython\n",
      "Python version       : 3.10.0\n",
      "IPython version      : 8.12.0\n",
      "\n",
      "sklearn: 1.2.2\n",
      "\n",
      "pandas    : 2.0.0\n",
      "numpy     : 1.24.2\n",
      "seaborn   : 0.12.2\n",
      "scipy     : 1.10.1\n",
      "matplotlib: 3.7.1\n",
      "\n",
      "Watermark: 2.3.1\n",
      "\n"
     ]
    }
   ],
   "source": [
    "from __future__ import annotations\n",
    "\n",
    "import pandas as pd\n",
    "import seaborn as sns\n",
    "import matplotlib.pyplot as plt\n",
    "import numpy as np\n",
    "from scipy import signal\n",
    "from scipy.io import loadmat\n",
    "\n",
    "%matplotlib inline\n",
    "\n",
    "%load_ext jupyter_black\n",
    "\n",
    "%load_ext watermark\n",
    "%watermark --time --date --timezone --updated --python --iversions --watermark -p sklearn"
   ]
  },
  {
   "cell_type": "code",
   "execution_count": 33,
   "metadata": {},
   "outputs": [],
   "source": [
    "plt.style.use(\"../matplotlib_style.txt\")"
   ]
  },
  {
   "cell_type": "markdown",
   "metadata": {},
   "source": [
    "## Load data"
   ]
  },
  {
   "cell_type": "code",
   "execution_count": 34,
   "metadata": {},
   "outputs": [],
   "source": [
    "# ogb dataset from Theis et al. 2016 Neuron\n",
    "ogb_calcium = pd.read_csv(\"../data/nds_cl_3_ogb_calcium.csv\", header=0)\n",
    "ogb_spikes = pd.read_csv(\"../data/nds_cl_3_ogb_spikes.csv\", header=0)\n",
    "\n",
    "# gcamp dataset from Chen et al. 2013 Nature\n",
    "gcamp_calcium = pd.read_csv(\"../data/nds_cl_3_gcamp2_calcium.csv\", header=0)\n",
    "gcamp_spikes = pd.read_csv(\"../data/nds_cl_3_gcamp2_spikes.csv\", header=0)"
   ]
  },
  {
   "cell_type": "code",
   "execution_count": 35,
   "metadata": {},
   "outputs": [
    {
     "data": {
      "text/plain": [
       "((71986, 11), (71986, 11), (23973, 37), (23973, 37))"
      ]
     },
     "execution_count": 35,
     "metadata": {},
     "output_type": "execute_result"
    }
   ],
   "source": [
    "ogb_calcium.shape, ogb_spikes.shape, gcamp_calcium.shape, gcamp_spikes.shape"
   ]
  },
  {
   "cell_type": "code",
   "execution_count": 42,
   "metadata": {},
   "outputs": [
    {
     "data": {
      "text/html": [
       "<div>\n",
       "<style scoped>\n",
       "    .dataframe tbody tr th:only-of-type {\n",
       "        vertical-align: middle;\n",
       "    }\n",
       "\n",
       "    .dataframe tbody tr th {\n",
       "        vertical-align: top;\n",
       "    }\n",
       "\n",
       "    .dataframe thead th {\n",
       "        text-align: right;\n",
       "    }\n",
       "</style>\n",
       "<table border=\"1\" class=\"dataframe\">\n",
       "  <thead>\n",
       "    <tr style=\"text-align: right;\">\n",
       "      <th></th>\n",
       "      <th>0</th>\n",
       "      <th>1</th>\n",
       "      <th>2</th>\n",
       "      <th>3</th>\n",
       "      <th>4</th>\n",
       "      <th>5</th>\n",
       "      <th>6</th>\n",
       "      <th>7</th>\n",
       "      <th>8</th>\n",
       "      <th>9</th>\n",
       "      <th>10</th>\n",
       "    </tr>\n",
       "  </thead>\n",
       "  <tbody>\n",
       "    <tr>\n",
       "      <th>0</th>\n",
       "      <td>-0.234928</td>\n",
       "      <td>0.689186</td>\n",
       "      <td>2.578560</td>\n",
       "      <td>0.636770</td>\n",
       "      <td>-0.015140</td>\n",
       "      <td>0.819771</td>\n",
       "      <td>2.442105</td>\n",
       "      <td>0.391310</td>\n",
       "      <td>0.223523</td>\n",
       "      <td>1.557675</td>\n",
       "      <td>0.625052</td>\n",
       "    </tr>\n",
       "    <tr>\n",
       "      <th>1</th>\n",
       "      <td>-0.182441</td>\n",
       "      <td>0.869132</td>\n",
       "      <td>2.868601</td>\n",
       "      <td>0.596164</td>\n",
       "      <td>0.022464</td>\n",
       "      <td>0.831411</td>\n",
       "      <td>2.930201</td>\n",
       "      <td>0.490213</td>\n",
       "      <td>0.116095</td>\n",
       "      <td>1.628054</td>\n",
       "      <td>0.638718</td>\n",
       "    </tr>\n",
       "    <tr>\n",
       "      <th>2</th>\n",
       "      <td>-0.049257</td>\n",
       "      <td>0.949273</td>\n",
       "      <td>2.784989</td>\n",
       "      <td>0.711875</td>\n",
       "      <td>0.040028</td>\n",
       "      <td>0.877191</td>\n",
       "      <td>3.065872</td>\n",
       "      <td>0.610873</td>\n",
       "      <td>0.154437</td>\n",
       "      <td>1.479382</td>\n",
       "      <td>0.552809</td>\n",
       "    </tr>\n",
       "    <tr>\n",
       "      <th>3</th>\n",
       "      <td>-0.032876</td>\n",
       "      <td>0.848802</td>\n",
       "      <td>2.430735</td>\n",
       "      <td>0.940943</td>\n",
       "      <td>0.038616</td>\n",
       "      <td>0.975941</td>\n",
       "      <td>3.051014</td>\n",
       "      <td>0.714453</td>\n",
       "      <td>0.335288</td>\n",
       "      <td>1.302766</td>\n",
       "      <td>0.420998</td>\n",
       "    </tr>\n",
       "    <tr>\n",
       "      <th>4</th>\n",
       "      <td>-0.125313</td>\n",
       "      <td>0.665088</td>\n",
       "      <td>2.064211</td>\n",
       "      <td>1.168007</td>\n",
       "      <td>0.014035</td>\n",
       "      <td>1.156689</td>\n",
       "      <td>2.967063</td>\n",
       "      <td>0.737085</td>\n",
       "      <td>0.550485</td>\n",
       "      <td>1.234470</td>\n",
       "      <td>0.367595</td>\n",
       "    </tr>\n",
       "  </tbody>\n",
       "</table>\n",
       "</div>"
      ],
      "text/plain": [
       "          0         1         2         3         4         5         6   \n",
       "0 -0.234928  0.689186  2.578560  0.636770 -0.015140  0.819771  2.442105  \\\n",
       "1 -0.182441  0.869132  2.868601  0.596164  0.022464  0.831411  2.930201   \n",
       "2 -0.049257  0.949273  2.784989  0.711875  0.040028  0.877191  3.065872   \n",
       "3 -0.032876  0.848802  2.430735  0.940943  0.038616  0.975941  3.051014   \n",
       "4 -0.125313  0.665088  2.064211  1.168007  0.014035  1.156689  2.967063   \n",
       "\n",
       "          7         8         9        10  \n",
       "0  0.391310  0.223523  1.557675  0.625052  \n",
       "1  0.490213  0.116095  1.628054  0.638718  \n",
       "2  0.610873  0.154437  1.479382  0.552809  \n",
       "3  0.714453  0.335288  1.302766  0.420998  \n",
       "4  0.737085  0.550485  1.234470  0.367595  "
      ]
     },
     "execution_count": 42,
     "metadata": {},
     "output_type": "execute_result"
    }
   ],
   "source": [
    "ogb_calcium.head()"
   ]
  },
  {
   "cell_type": "code",
   "execution_count": 38,
   "metadata": {},
   "outputs": [
    {
     "data": {
      "text/html": [
       "<div>\n",
       "<style scoped>\n",
       "    .dataframe tbody tr th:only-of-type {\n",
       "        vertical-align: middle;\n",
       "    }\n",
       "\n",
       "    .dataframe tbody tr th {\n",
       "        vertical-align: top;\n",
       "    }\n",
       "\n",
       "    .dataframe thead th {\n",
       "        text-align: right;\n",
       "    }\n",
       "</style>\n",
       "<table border=\"1\" class=\"dataframe\">\n",
       "  <thead>\n",
       "    <tr style=\"text-align: right;\">\n",
       "      <th></th>\n",
       "      <th>0</th>\n",
       "      <th>1</th>\n",
       "      <th>2</th>\n",
       "      <th>3</th>\n",
       "      <th>4</th>\n",
       "      <th>5</th>\n",
       "      <th>6</th>\n",
       "      <th>7</th>\n",
       "      <th>8</th>\n",
       "      <th>9</th>\n",
       "      <th>10</th>\n",
       "    </tr>\n",
       "  </thead>\n",
       "  <tbody>\n",
       "    <tr>\n",
       "      <th>0</th>\n",
       "      <td>0</td>\n",
       "      <td>0</td>\n",
       "      <td>0.0</td>\n",
       "      <td>0.0</td>\n",
       "      <td>0</td>\n",
       "      <td>0</td>\n",
       "      <td>0</td>\n",
       "      <td>0.0</td>\n",
       "      <td>0</td>\n",
       "      <td>0.0</td>\n",
       "      <td>0</td>\n",
       "    </tr>\n",
       "    <tr>\n",
       "      <th>1</th>\n",
       "      <td>0</td>\n",
       "      <td>0</td>\n",
       "      <td>0.0</td>\n",
       "      <td>0.0</td>\n",
       "      <td>0</td>\n",
       "      <td>1</td>\n",
       "      <td>0</td>\n",
       "      <td>0.0</td>\n",
       "      <td>0</td>\n",
       "      <td>0.0</td>\n",
       "      <td>0</td>\n",
       "    </tr>\n",
       "    <tr>\n",
       "      <th>2</th>\n",
       "      <td>0</td>\n",
       "      <td>0</td>\n",
       "      <td>0.0</td>\n",
       "      <td>0.0</td>\n",
       "      <td>0</td>\n",
       "      <td>0</td>\n",
       "      <td>0</td>\n",
       "      <td>0.0</td>\n",
       "      <td>0</td>\n",
       "      <td>0.0</td>\n",
       "      <td>0</td>\n",
       "    </tr>\n",
       "    <tr>\n",
       "      <th>3</th>\n",
       "      <td>0</td>\n",
       "      <td>0</td>\n",
       "      <td>0.0</td>\n",
       "      <td>0.0</td>\n",
       "      <td>0</td>\n",
       "      <td>1</td>\n",
       "      <td>0</td>\n",
       "      <td>0.0</td>\n",
       "      <td>0</td>\n",
       "      <td>0.0</td>\n",
       "      <td>0</td>\n",
       "    </tr>\n",
       "    <tr>\n",
       "      <th>4</th>\n",
       "      <td>0</td>\n",
       "      <td>0</td>\n",
       "      <td>0.0</td>\n",
       "      <td>0.0</td>\n",
       "      <td>0</td>\n",
       "      <td>0</td>\n",
       "      <td>0</td>\n",
       "      <td>0.0</td>\n",
       "      <td>0</td>\n",
       "      <td>0.0</td>\n",
       "      <td>0</td>\n",
       "    </tr>\n",
       "  </tbody>\n",
       "</table>\n",
       "</div>"
      ],
      "text/plain": [
       "   0  1    2    3  4  5  6    7  8    9  10\n",
       "0  0  0  0.0  0.0  0  0  0  0.0  0  0.0   0\n",
       "1  0  0  0.0  0.0  0  1  0  0.0  0  0.0   0\n",
       "2  0  0  0.0  0.0  0  0  0  0.0  0  0.0   0\n",
       "3  0  0  0.0  0.0  0  1  0  0.0  0  0.0   0\n",
       "4  0  0  0.0  0.0  0  0  0  0.0  0  0.0   0"
      ]
     },
     "execution_count": 38,
     "metadata": {},
     "output_type": "execute_result"
    }
   ],
   "source": [
    "ogb_spikes.head()"
   ]
  },
  {
   "attachments": {},
   "cell_type": "markdown",
   "metadata": {
    "tags": []
   },
   "source": [
    "## Task 1: Visualization of calcium and spike recordings\n",
    "\n",
    "We start again by plotting the raw data - calcium and spike traces in this case. One dataset has been recorded using the synthetic calcium indicator OGB-1 at population imaging zoom (~100 cells in a field of view) and the other one using the genetically encoded indicator GCamp6f zooming in on individual cells. Plot the traces of an example cell from each dataset to show how spikes and calcium signals are related. A good example cell for the OGB-dataset is cell 5. For the CGamp-dataset a good example is cell 6. Zoom in on a small segment of tens of seconds and offset the traces such that a valid comparison is possible.\n",
    "\n",
    "*Grading: 2 pts*"
   ]
  },
  {
   "cell_type": "code",
   "execution_count": 90,
   "metadata": {},
   "outputs": [
    {
     "name": "stdout",
     "output_type": "stream",
     "text": [
      "98472608\n",
      "1589372\n"
     ]
    },
    {
     "data": {
      "image/png": "[encoded data removed]",
      "text/plain": [
       "<Figure size 900x500 with 4 Axes>"
      ]
     },
     "metadata": {},
     "output_type": "display_data"
    }
   ],
   "source": [
    "# ----------------------------\n",
    "# Plot raw calcium data (1 pt)\n",
    "# ----------------------------\n",
    "def plot_calcium(ax, calcuim_data, cell_i):\n",
    "    cell_data = calcuim_data.iloc[:, cell_i]\n",
    "    ax.plot(cell_data, label=f\"{cell_i}\")\n",
    "    ax.set_ylabel(\"Calcium\")\n",
    "\n",
    "\n",
    "# --------------------------\n",
    "# Plot raw spike data (1 pt)\n",
    "# --------------------------\n",
    "def plot_spikes(ax, spike_data, cell_i):\n",
    "    cell_data = spike_data.iloc[:, cell_i]\n",
    "    ax.plot(cell_data, label=f\"{cell_i}\")\n",
    "    ax.set_xlabel(\"Time (s)\")\n",
    "    ax.set_ylabel(\"Spikes\")\n",
    "\n",
    "\n",
    "def scatter_spikes(ax, spike_data, calcium_data, cell_i):\n",
    "    cell_data = spike_data.iloc[:, cell_i]\n",
    "    indices = np.where(cell_data > 0)[0]\n",
    "    print(indices.sum())\n",
    "    ax.scatter(\n",
    "        indices,\n",
    "        calcium_data.iloc[:, cell_i][indices],\n",
    "        label=f\"{cell_i}\",\n",
    "        color=\"red\",\n",
    "    )\n",
    "\n",
    "\n",
    "fig, axs = plt.subplots(\n",
    "    2, 2, figsize=(9, 5), height_ratios=[3, 1], layout=\"constrained\"\n",
    ")\n",
    "\n",
    "OGB_CELL = 5\n",
    "GCAMP_CELL = 6\n",
    "WINDOW = 500\n",
    "START = 1000\n",
    "\n",
    "for ax in axs.T:\n",
    "    for a in ax:\n",
    "        a.set_xlim(START, START + WINDOW)\n",
    "    ax[0].set_ylim(0, 5)\n",
    "    ax[1].set_ylim(-0.1, 1.1)\n",
    "    ax[0].set_xticks([])\n",
    "\n",
    "# plot raw ogb data\n",
    "plot_calcium(axs[0, 0], ogb_calcium, OGB_CELL)\n",
    "plot_spikes(axs[1, 0], ogb_spikes, OGB_CELL)\n",
    "scatter_spikes(axs[0, 0], ogb_spikes, ogb_calcium, OGB_CELL)\n",
    "\n",
    "# plot raw gcamp data\n",
    "plot_calcium(axs[0, 1], gcamp_calcium, GCAMP_CELL)\n",
    "plot_spikes(axs[1, 1], gcamp_spikes, GCAMP_CELL)\n",
    "scatter_spikes(axs[0, 1], gcamp_spikes, gcamp_calcium, GCAMP_CELL)"
   ]
  },
  {
   "cell_type": "markdown",
   "metadata": {},
   "source": [
    "## Task 2: Simple deconvolution\n",
    "\n",
    "It is clear from the above plots that the calcium events happen in relationship to the spikes. As a first simple algorithm implement a deconvolution approach like presented in the lecture in the function `deconv_ca`. Assume an exponential kernel where the decay constant depends on the indicator ($\\tau_{OGB}= 0.5 s$, $\\tau_{GCaMP}= 0.1 s$). As we know that there can be no negative rates, apply a heavyside function to the output. Plot the kernel as well as an example cell with true and deconvolved spike rates. Scale the signals such as to facilitate comparisons. You can use functions from `scipy` for this.\n",
    "\n",
    "*Grading: 3 pts*\n"
   ]
  },
  {
   "cell_type": "code",
   "execution_count": 19,
   "metadata": {},
   "outputs": [],
   "source": [
    "def deconv_ca(ca, tau, dt):\n",
    "    \"\"\"Compute the deconvolution of the calcium signal.\n",
    "\n",
    "    Parameters\n",
    "    ----------\n",
    "\n",
    "    ca: np.array, (n_points,)\n",
    "        Calcium trace\n",
    "\n",
    "    tau: float\n",
    "        decay constant of conv kernel\n",
    "\n",
    "    dt: float\n",
    "        sampling interval.\n",
    "\n",
    "    Return\n",
    "    ------\n",
    "\n",
    "    sp_hat: np.array\n",
    "    \"\"\"\n",
    "\n",
    "    # insert your code here\n",
    "\n",
    "    # --------------------------------------------\n",
    "    # apply devonvolution to calcium signal (1 pt)\n",
    "    # --------------------------------------------\n",
    "\n",
    "    return sp_hat"
   ]
  },
  {
   "cell_type": "code",
   "execution_count": 20,
   "metadata": {},
   "outputs": [
    {
     "data": {
      "image/png": "[encoded data removed]",
      "text/plain": [
       "<Figure size 600x500 with 1 Axes>"
      ]
     },
     "metadata": {},
     "output_type": "display_data"
    }
   ],
   "source": [
    "fig, ax = plt.subplots(figsize=(6, 5), layout=\"constrained\")\n",
    "\n",
    "# -------------------------\n",
    "# Plot the 2 kernels (1 pt)\n",
    "# -------------------------"
   ]
  },
  {
   "cell_type": "code",
   "execution_count": 21,
   "metadata": {},
   "outputs": [
    {
     "data": {
      "image/png": "[encoded data removed]",
      "text/plain": [
       "<Figure size 600x400 with 3 Axes>"
      ]
     },
     "metadata": {},
     "output_type": "display_data"
    }
   ],
   "source": [
    "# --------------------------------------------------------------------------\n",
    "# Compare true and deconvolved spikes rates for the OGB or GCamP Cell (1 pt)\n",
    "# --------------------------------------------------------------------------\n",
    "\n",
    "fig, axs = plt.subplots(\n",
    "    3, 1, figsize=(6, 4), height_ratios=[1, 1, 1], gridspec_kw=dict(hspace=0)\n",
    ")\n",
    "\n",
    "# OGB Cell"
   ]
  },
  {
   "cell_type": "markdown",
   "metadata": {
    "tags": []
   },
   "source": [
    "## Task 3: Run more complex algorithm\n",
    "\n",
    "As reviewed in the lecture, a number of more complex algorithms for inferring spikes from calcium traces have been developed. Run an implemented algorithm on the data and plot the result. There is a choice of algorithms available, for example:\n",
    "\n",
    "* Vogelstein: [oopsi](https://github.com/liubenyuan/py-oopsi)\n",
    "* Theis: [c2s](https://github.com/lucastheis/c2s)\n",
    "* Friedrich: [OASIS](https://github.com/j-friedrich/OASIS)\n",
    "\n",
    "*Grading: 2 pts*\n",
    "\n"
   ]
  },
  {
   "cell_type": "code",
   "execution_count": 31,
   "metadata": {},
   "outputs": [
    {
     "name": "stdout",
     "output_type": "stream",
     "text": [
      "  % Total    % Received % Xferd  Average Speed   Time    Time     Time  Current\n",
      "                                 Dload  Upload   Total   Spent    Left  Speed\n",
      "100  7973  100  7973    0     0  36337      0 --:--:-- --:--:-- --:--:-- 37431\n"
     ]
    }
   ],
   "source": [
    "# run this cell to download the oopsi.py file if you haven't already mannually downloaded it\n",
    "# and put it in the same folder as this notebook\n",
    "# !wget https://raw.githubusercontent.com/liubenyuan/py-oopsi/master/oopsi.py\n",
    "!curl https://raw.githubusercontent.com/liubenyuan/py-oopsi/master/oopsi.py -o oopsi.py"
   ]
  },
  {
   "cell_type": "code",
   "execution_count": 23,
   "metadata": {},
   "outputs": [],
   "source": [
    "import oopsi"
   ]
  },
  {
   "cell_type": "code",
   "execution_count": 24,
   "metadata": {},
   "outputs": [],
   "source": [
    "# --------------------------------------------------------------\n",
    "# Apply one of the advanced algorithms on the OGB Cell (0.5 pts)\n",
    "# --------------------------------------------------------------"
   ]
  },
  {
   "cell_type": "code",
   "execution_count": 25,
   "metadata": {},
   "outputs": [
    {
     "data": {
      "image/png": "[encoded data removed]",
      "text/plain": [
       "<Figure size 600x400 with 3 Axes>"
      ]
     },
     "metadata": {},
     "output_type": "display_data"
    }
   ],
   "source": [
    "# -------------------------------------------\n",
    "# Plot the results for the OGB Cell (0.5 pts)\n",
    "# -------------------------------------------\n",
    "\n",
    "fig, axs = plt.subplots(\n",
    "    3, 1, figsize=(6, 4), height_ratios=[1, 1, 1], gridspec_kw=dict(hspace=0)\n",
    ")\n",
    "\n",
    "# OGB Cell"
   ]
  },
  {
   "cell_type": "code",
   "execution_count": 26,
   "metadata": {},
   "outputs": [],
   "source": [
    "# ----------------------------------------------------------------\n",
    "# Apply one of the advanced algorithms on the GCamP Cell (0.5 pts)\n",
    "# ----------------------------------------------------------------"
   ]
  },
  {
   "cell_type": "code",
   "execution_count": 27,
   "metadata": {},
   "outputs": [
    {
     "data": {
      "image/png": "[encoded data removed]",
      "text/plain": [
       "<Figure size 600x400 with 3 Axes>"
      ]
     },
     "metadata": {},
     "output_type": "display_data"
    }
   ],
   "source": [
    "# ---------------------------------------------\n",
    "# Plot the results for the GCamp Cell (0.5 pts)\n",
    "# ---------------------------------------------\n",
    "\n",
    "fig, axs = plt.subplots(\n",
    "    3, 1, figsize=(6, 4), height_ratios=[1, 1, 1], gridspec_kw=dict(hspace=0)\n",
    ")\n",
    "\n",
    "\n",
    "# GCamP Cell"
   ]
  },
  {
   "cell_type": "markdown",
   "metadata": {},
   "source": [
    "## Task 4: Evaluation of algorithms\n",
    "\n",
    "To formally evaluate the algorithms on the two datasets run the deconvolution algorithm and the more complex one on all cells and compute the correlation between true and inferred spike trains. `DataFrames` from the `pandas` package are a useful tool for aggregating data and later plotting it. Create a dataframe with columns\n",
    "\n",
    "* algorithm\n",
    "* correlation\n",
    "* indicator\n",
    "\n",
    "and enter each cell. Plot the results using `stripplot` and/or `boxplot` in the `seaborn` package.\n",
    "\n",
    "*Grading: 3 pts*\n"
   ]
  },
  {
   "cell_type": "markdown",
   "metadata": {},
   "source": [
    "Evaluate on OGB data"
   ]
  },
  {
   "cell_type": "code",
   "execution_count": 28,
   "metadata": {},
   "outputs": [],
   "source": [
    "# -------------------------------------------------\n",
    "# Create dataframe for OGB Cell as described (1 pt)\n",
    "# -------------------------------------------------"
   ]
  },
  {
   "cell_type": "markdown",
   "metadata": {},
   "source": [
    "Create OGB dataframe"
   ]
  },
  {
   "cell_type": "code",
   "execution_count": 29,
   "metadata": {},
   "outputs": [
    {
     "ename": "NameError",
     "evalue": "name 'algo' is not defined",
     "output_type": "error",
     "traceback": [
      "\u001b[0;31m---------------------------------------------------------------------------\u001b[0m",
      "\u001b[0;31mNameError\u001b[0m                                 Traceback (most recent call last)",
      "Cell \u001b[0;32mIn[29], line 1\u001b[0m\n\u001b[0;32m----> 1\u001b[0m df_ogb \u001b[39m=\u001b[39m pd\u001b[39m.\u001b[39mDataFrame({\u001b[39m\"\u001b[39m\u001b[39malgorithm\u001b[39m\u001b[39m\"\u001b[39m: algo, \u001b[39m\"\u001b[39m\u001b[39mcorrelation\u001b[39m\u001b[39m\"\u001b[39m: c, \u001b[39m\"\u001b[39m\u001b[39mindicator\u001b[39m\u001b[39m\"\u001b[39m: indicator})\n\u001b[1;32m      2\u001b[0m df_ogb\u001b[39m.\u001b[39mhead()\n",
      "\u001b[0;31mNameError\u001b[0m: name 'algo' is not defined"
     ]
    }
   ],
   "source": [
    "df_ogb = pd.DataFrame({\"algorithm\": algo, \"correlation\": c, \"indicator\": indicator})\n",
    "df_ogb.head()"
   ]
  },
  {
   "cell_type": "markdown",
   "metadata": {},
   "source": [
    "Evaluate on GCamp data"
   ]
  },
  {
   "cell_type": "code",
   "execution_count": null,
   "metadata": {},
   "outputs": [],
   "source": [
    "# ---------------------------------------------------\n",
    "# Create dataframe for GCamP Cell as described (1 pt)\n",
    "# ---------------------------------------------------"
   ]
  },
  {
   "cell_type": "markdown",
   "metadata": {},
   "source": [
    "Create GCamp dataframe"
   ]
  },
  {
   "cell_type": "code",
   "execution_count": null,
   "metadata": {},
   "outputs": [],
   "source": [
    "df_gcamp = pd.DataFrame({\"algorithm\": algo, \"correlation\": c, \"indicator\": indicator})\n",
    "df_gcamp.head()"
   ]
  },
  {
   "cell_type": "markdown",
   "metadata": {},
   "source": [
    "Combine both dataframes and plot"
   ]
  },
  {
   "cell_type": "code",
   "execution_count": null,
   "metadata": {},
   "outputs": [],
   "source": [
    "# ---------------------------------------------------------------------------\n",
    "# Create Strip/Boxplot for both cells and algorithms Cell as described (1 pt)\n",
    "# hint: you can seperate the algorithms by color\n",
    "# ---------------------------------------------------------------------------"
   ]
  }
 ],
 "metadata": {
  "anaconda-cloud": {},
  "kernelspec": {
   "display_name": "Python 3 (ipykernel)",
   "language": "python",
   "name": "python3"
  },
  "language_info": {
   "codemirror_mode": {
    "name": "ipython",
    "version": 3
   },
   "file_extension": ".py",
   "mimetype": "text/x-python",
   "name": "python",
   "nbconvert_exporter": "python",
   "pygments_lexer": "ipython3",
   "version": "3.10.0"
  },
  "nteract": {
   "version": "0.13.0"
  },
  "varInspector": {
   "cols": {
    "lenName": 16,
    "lenType": 16,
    "lenVar": 40
   },
   "kernels_config": {
    "python": {
     "delete_cmd_postfix": "",
     "delete_cmd_prefix": "del ",
     "library": "var_list.py",
     "varRefreshCmd": "print(var_dic_list())"
    },
    "r": {
     "delete_cmd_postfix": ") ",
     "delete_cmd_prefix": "rm(",
     "library": "var_list.r",
     "varRefreshCmd": "cat(var_dic_list()) "
    }
   },
   "types_to_exclude": [
    "module",
    "function",
    "builtin_function_or_method",
    "instance",
    "_Feature"
   ],
   "window_display": false
  },
  "vscode": {
   "interpreter": {
    "hash": "01c410baa9fc88dfee5f8d965682dff580a05acc8a6315cbf16020b8fcc70d20"
   }
  }
 },
 "nbformat": 4,
 "nbformat_minor": 4
}
